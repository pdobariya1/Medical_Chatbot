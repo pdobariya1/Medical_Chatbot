{
 "cells": [
  {
   "cell_type": "code",
   "execution_count": 64,
   "metadata": {},
   "outputs": [],
   "source": [
    "import os\n",
    "import pinecone\n",
    "from dotenv import load_dotenv\n",
    "from langchain.vectorstores import Pinecone\n",
    "from langchain.prompts import ChatPromptTemplate\n",
    "from langchain.chains import create_retrieval_chain\n",
    "from langchain_nvidia_ai_endpoints import ChatNVIDIA\n",
    "from langchain.text_splitter import RecursiveCharacterTextSplitter\n",
    "from langchain.document_loaders import PyPDFLoader, DirectoryLoader\n",
    "from langchain.chains.combine_documents import create_stuff_documents_chain\n",
    "from langchain_huggingface.embeddings.huggingface import HuggingFaceEmbeddings"
   ]
  },
  {
   "cell_type": "code",
   "execution_count": 52,
   "metadata": {},
   "outputs": [],
   "source": [
    "load_dotenv()\n",
    "PINECONE_API_KEY = os.getenv(\"PINECONE_API_KEY\")\n",
    "NVIDIA_API_KEY = os.getenv(\"NVIDIA_API_KEY\")"
   ]
  },
  {
   "cell_type": "code",
   "execution_count": 8,
   "metadata": {},
   "outputs": [],
   "source": [
    "# Extract data from PDF\n",
    "def load_pdf(data):\n",
    "    loader = DirectoryLoader(data, glob=\"*.pdf\", loader_cls=PyPDFLoader)\n",
    "    documents = loader.load()\n",
    "    return documents"
   ]
  },
  {
   "cell_type": "code",
   "execution_count": 10,
   "metadata": {},
   "outputs": [],
   "source": [
    "extracted_data = load_pdf(\"data/\")"
   ]
  },
  {
   "cell_type": "code",
   "execution_count": 17,
   "metadata": {},
   "outputs": [
    {
     "name": "stdout",
     "output_type": "stream",
     "text": [
      "• headaches\n",
      "• vaginal infection,itching, or irritation\n",
      "• increased blood pressure\n",
      "Women who have any of the following symptoms\n",
      "should get emergency help right away. These symptoms\n",
      "may be signs of blood clots:\n",
      "• sudden changes in vision, speech, breathing, or coordi-\n",
      "nation\n",
      "• severe or sudden headache\n",
      "• coughing up blood\n",
      "• sudden, severe, or continuing pain in the abdomen or\n",
      "stomach\n",
      "• pain in the chest, groin, or leg (especially in the calf)\n",
      "• weakness, numbness, or pain in an arm or leg\n",
      "Oral contraceptives may continue to affect the men-\n",
      "strual cycle for some time after a woman stops taking\n",
      "them. Women who miss periods for several months after\n",
      "stopping this medicine should check with their physicians.\n",
      "Other rare side effects may occur. Anyone who has\n",
      "unusual symptoms while taking oral contraceptives\n",
      "should get in touch with her physician.\n",
      "Interactions\n",
      "Oral contraceptives may interact with a number of\n",
      "other medicines. When this happens, the effects of one or\n",
      "both of the drugs may change or the risk of side effects\n",
      "may be greater. Anyone who takes oral contraceptives\n",
      "should let the physician know all other medicines she is\n",
      "taking and should ask whether the possible interactions\n",
      "can interfere with drug therapy.\n",
      "These drugs may make oral contraceptives less\n",
      "effective in preventing pregnancy. Anyone who takes\n",
      "these drugs should use an additional birth control method\n",
      "for the entire cycle in which the medicine is used:\n",
      "• ampicillin\n",
      "• penicillin V\n",
      "• rifampin (Rifadin)\n",
      "• tetracyclines\n",
      "• griseofulvin (Gris-PEG, Fulvicin)\n",
      "• corticosteroids\n",
      "• barbiturates\n",
      "• carbamazepine (Tegretol)\n",
      "• phenytoin (Dilantin)\n",
      "• primidone (Mysoline)\n",
      "• ritonavir (Norvir)\n",
      "KEY TERMS\n",
      "Cyst—An abnormal sac or enclosed cavity in the\n",
      "body, filled with liquid or partially solid material.\n",
      "Endometriosis —A condition in which tissue like\n",
      "that normally found in the lining of the uterus is\n",
      "present outside the uterus. The condition often\n",
      "causes pain and bleeding.\n",
      "Fallopian tube—One of a pair of slender tubes that\n",
      "extend from each ovary to the uterus. Eggs pass\n",
      "through the fallopian tubes to reach the uterus.\n",
      "Fetus—A developing baby inside the womb.\n",
      "Fibroid tumor—A noncancerous tumor formed of\n",
      "fibrous tissue.\n",
      "Hormone —A substance that is produced in one\n",
      "part of the body, then travels through the blood-\n",
      "stream to another part of the body where it has its\n",
      "effect.\n",
      "Jaundice —Yellowing of the eyes and skin due to\n",
      "the build up of a bile pigment (bilirubin) in the\n",
      "blood.\n",
      "Migraine —A throbbing headache that usually\n",
      "affects only one side of the head. Nausea, vomit-\n",
      "ing, increased sensitivity to light, and other symp-\n",
      "toms often accompany migraine.\n",
      "Mucus—Thick fluid produced by the moist mem-\n",
      "branes that line many body cavities and structures.\n",
      "Ovary—A reproductive organ in females that pro-\n",
      "duces eggs and hormones.\n",
      "Pelvic inflammatory disease—Inflammation of the\n",
      "female reproductive tract, caused by any of several\n",
      "microorganisms. Symptoms include severe\n",
      "abdominal pain, high fever, and vaginal discharge.\n",
      "Severe cases can result in sterility. Also called PID.\n",
      "Uterus—A hollow organ in a female in which a\n",
      "fetus develops until birth.\n",
      "In addition, taking these medicines with oral contra-\n",
      "ceptives may increase the risk of side effects or interfere\n",
      "with the medicine’s effects:\n",
      "• theophylline—effects of this medicine may increase,\n",
      "along with the chance of unwanted side effects\n",
      "• cyclosporine—effects of this medicine may increase,\n",
      "along with the chance of unwanted side effects\n",
      "• troleandomycin (TAO)—chance of liver problems may\n",
      "increase. Effectiveness of oral contraceptive may also\n",
      "decrease, raising the risk of pregnancy\n",
      "GALE ENCYCLOPEDIA OF MEDICINE 22404\n",
      "Oral contraceptives\n"
     ]
    }
   ],
   "source": [
    "print(extracted_data[110].page_content)"
   ]
  },
  {
   "cell_type": "code",
   "execution_count": 18,
   "metadata": {},
   "outputs": [],
   "source": [
    "# Create text chunks\n",
    "def text_split(extracted_data):\n",
    "    text_splitter = RecursiveCharacterTextSplitter(chunk_size=500, chunk_overlap=50)\n",
    "    text_chunks = text_splitter.split_documents(extracted_data)\n",
    "    return text_chunks"
   ]
  },
  {
   "cell_type": "code",
   "execution_count": 19,
   "metadata": {},
   "outputs": [
    {
     "name": "stdout",
     "output_type": "stream",
     "text": [
      "Length of chunks : 8846\n"
     ]
    }
   ],
   "source": [
    "text_chunks = text_split(extracted_data)\n",
    "print(f\"Length of chunks : {len(text_chunks)}\")"
   ]
  },
  {
   "cell_type": "code",
   "execution_count": 23,
   "metadata": {},
   "outputs": [
    {
     "name": "stdout",
     "output_type": "stream",
     "text": [
      "meditation to aromatherapy. In addition to full essays on\n",
      "alternative therapies, the encyclopedia features specific\n",
      "Alternative treatmentsections for diseases and condi-\n",
      "tions that may be helped by complementary therapies.\n",
      "INCLUSION CRITERIA\n",
      "A preliminary list of diseases, disorders, tests and treat-\n",
      "ments was compiled from a wide variety of sources,\n",
      "including professional medical guides and textbooks as\n",
      "well as consumer guides and encyclopedias. The general\n"
     ]
    }
   ],
   "source": [
    "print(text_chunks[20].page_content)"
   ]
  },
  {
   "cell_type": "code",
   "execution_count": 27,
   "metadata": {},
   "outputs": [],
   "source": [
    "# Download Embedding Model\n",
    "def download_hugging_face_embedding():\n",
    "    embedding = HuggingFaceEmbeddings(model_name=\"sentence-transformers/all-MiniLM-L6-v2\", show_progress=True)\n",
    "    return embedding"
   ]
  },
  {
   "cell_type": "code",
   "execution_count": 28,
   "metadata": {},
   "outputs": [],
   "source": [
    "embeddings = download_hugging_face_embedding()"
   ]
  },
  {
   "cell_type": "code",
   "execution_count": 34,
   "metadata": {},
   "outputs": [
    {
     "name": "stderr",
     "output_type": "stream",
     "text": [
      "Batches: 100%|██████████| 1/1 [00:00<00:00, 36.13it/s]"
     ]
    },
    {
     "name": "stdout",
     "output_type": "stream",
     "text": [
      "Length : 384\n"
     ]
    },
    {
     "name": "stderr",
     "output_type": "stream",
     "text": [
      "\n"
     ]
    }
   ],
   "source": [
    "result = embeddings.embed_query(\"Parth Dobariya\")\n",
    "print(f\"Length : {len(result)}\")"
   ]
  },
  {
   "cell_type": "code",
   "execution_count": 35,
   "metadata": {},
   "outputs": [
    {
     "name": "stderr",
     "output_type": "stream",
     "text": [
      "Batches: 100%|██████████| 32/32 [00:32<00:00,  1.03s/it]\n",
      "Batches: 100%|██████████| 32/32 [00:34<00:00,  1.07s/it]\n",
      "Batches: 100%|██████████| 32/32 [00:32<00:00,  1.02s/it]\n",
      "Batches: 100%|██████████| 32/32 [00:34<00:00,  1.07s/it]\n",
      "Batches: 100%|██████████| 32/32 [00:31<00:00,  1.03it/s]\n",
      "Batches: 100%|██████████| 32/32 [00:30<00:00,  1.07it/s]\n",
      "Batches: 100%|██████████| 32/32 [00:33<00:00,  1.06s/it]\n",
      "Batches: 100%|██████████| 32/32 [00:34<00:00,  1.06s/it]\n",
      "Batches: 100%|██████████| 27/27 [00:20<00:00,  1.32it/s]\n"
     ]
    }
   ],
   "source": [
    "# Initializing Pinecone\n",
    "pc = pinecone.Pinecone(api_key=PINECONE_API_KEY)\n",
    "\n",
    "index_name = \"medical-chatbot\"\n",
    "\n",
    "# # Create Embeddings for each of the Text Chunk\n",
    "docsearch = Pinecone.from_texts([t.page_content for t in text_chunks], embedding=embeddings, index_name=index_name)"
   ]
  },
  {
   "cell_type": "code",
   "execution_count": 43,
   "metadata": {},
   "outputs": [
    {
     "name": "stderr",
     "output_type": "stream",
     "text": [
      "Batches: 100%|██████████| 1/1 [00:00<00:00, 32.79it/s]\n"
     ]
    },
    {
     "name": "stdout",
     "output_type": "stream",
     "text": [
      "Result :  [Document(metadata={}, page_content='Jaundice —Yellow discoloration of skin and whites\\nof the eyes that results from excess bilirubin in the\\nbody’s system.\\nNecrotizing enterocolitis (NEC) —A condition in\\nwhich part of the intestines are destroyed as a result\\nof bacterial infection.\\nRespiratory distress syndrome (RDS)—Condition in\\nwhich a premature infant with immature lungs does\\nnot develop surfacant, a protective film that helps\\nair sacs in the lungs to stay open. The most common\\nproblem seen in premature infants.'), Document(metadata={}, page_content='light to treat his jaundice. (Photograph by Ron Sutherland.\\nPhoto Researchers, Inc. Reproduced by permission.)')]\n"
     ]
    }
   ],
   "source": [
    "# If already have an index, load it\n",
    "docsearch = Pinecone.from_existing_index(index_name, embeddings)\n",
    "\n",
    "query = \"What is Jaundice?\"\n",
    "\n",
    "docs = docsearch.similarity_search(query, k=2)\n",
    "\n",
    "print(\"Result : \", docs)"
   ]
  },
  {
   "cell_type": "code",
   "execution_count": null,
   "metadata": {},
   "outputs": [
    {
     "name": "stdout",
     "output_type": "stream",
     "text": [
      "Jaundice —Yellow discoloration of skin and whites\n",
      "of the eyes that results from excess bilirubin in the\n",
      "body’s system.\n",
      "Necrotizing enterocolitis (NEC) —A condition in\n",
      "which part of the intestines are destroyed as a result\n",
      "of bacterial infection.\n",
      "Respiratory distress syndrome (RDS)—Condition in\n",
      "which a premature infant with immature lungs does\n",
      "not develop surfacant, a protective film that helps\n",
      "air sacs in the lungs to stay open. The most common\n",
      "problem seen in premature infants.\n",
      "--------------------------------------------------------------------------------\n",
      "light to treat his jaundice. (Photograph by Ron Sutherland.\n",
      "Photo Researchers, Inc. Reproduced by permission.)\n",
      "--------------------------------------------------------------------------------\n"
     ]
    }
   ],
   "source": [
    "# Not formatted result. So, use LLM model\n",
    "for i in docs:\n",
    "    print(i.page_content)\n",
    "    print(\"-\"*80)"
   ]
  },
  {
   "cell_type": "code",
   "execution_count": 65,
   "metadata": {},
   "outputs": [],
   "source": [
    "system_prompt = (\n",
    "    \"Use the following pieces of information to answer to user's question.\"\n",
    "    \"If you don't know the answer, just say that you don't know, don't try to make up an answer.\"\n",
    "    \n",
    "    \"Context: {context}\"\n",
    ")\n",
    "\n",
    "PROMPT = ChatPromptTemplate.from_messages(\n",
    "    [\n",
    "        (\"system\", system_prompt),\n",
    "        (\"human\", \"{input}\")\n",
    "    ]\n",
    ")"
   ]
  },
  {
   "cell_type": "code",
   "execution_count": 66,
   "metadata": {},
   "outputs": [],
   "source": [
    "llm = ChatNVIDIA(\n",
    "    model=\"meta/llama-3.1-8b-instruct\",\n",
    "    api_key = NVIDIA_API_KEY,\n",
    "    temperature=0.2,\n",
    "    top_p=0.7,\n",
    "    max_tokens=1024\n",
    ")"
   ]
  },
  {
   "cell_type": "code",
   "execution_count": 67,
   "metadata": {},
   "outputs": [],
   "source": [
    "question_answer_chain = create_stuff_documents_chain(llm=llm, prompt=PROMPT)\n",
    "qa_chain = create_retrieval_chain(\n",
    "    retriever=docsearch.as_retriever(search_kwargs={'k': 2}),\n",
    "    combine_docs_chain=question_answer_chain\n",
    ")"
   ]
  },
  {
   "cell_type": "code",
   "execution_count": 68,
   "metadata": {},
   "outputs": [
    {
     "name": "stderr",
     "output_type": "stream",
     "text": [
      "Batches: 100%|██████████| 1/1 [00:00<00:00, 65.58it/s]\n"
     ]
    }
   ],
   "source": [
    "# user_input = input(f\"Input prompt\")\n",
    "result = qa_chain.invoke({\"input\": query})"
   ]
  },
  {
   "cell_type": "code",
   "execution_count": 70,
   "metadata": {},
   "outputs": [
    {
     "data": {
      "text/plain": [
       "\"Jaundice is a yellow discoloration of the skin and whites of the eyes that results from excess bilirubin in the body's system.\""
      ]
     },
     "execution_count": 70,
     "metadata": {},
     "output_type": "execute_result"
    }
   ],
   "source": [
    "result[\"answer\"]"
   ]
  },
  {
   "cell_type": "code",
   "execution_count": 78,
   "metadata": {},
   "outputs": [],
   "source": [
    "while True:\n",
    "    import sys\n",
    "    user_query = input(f\"Input prompt\")\n",
    "    if user_query == \"exit\" or user_query == \"\":\n",
    "        break\n",
    "    else:\n",
    "        result = qa_chain.invoke({\"input\": user_query})\n",
    "        print(\"Response : \", result[\"answer\"])"
   ]
  },
  {
   "cell_type": "code",
   "execution_count": null,
   "metadata": {},
   "outputs": [],
   "source": []
  }
 ],
 "metadata": {
  "kernelspec": {
   "display_name": "Python 3",
   "language": "python",
   "name": "python3"
  },
  "language_info": {
   "codemirror_mode": {
    "name": "ipython",
    "version": 3
   },
   "file_extension": ".py",
   "mimetype": "text/x-python",
   "name": "python",
   "nbconvert_exporter": "python",
   "pygments_lexer": "ipython3",
   "version": "3.9.20"
  }
 },
 "nbformat": 4,
 "nbformat_minor": 2
}
